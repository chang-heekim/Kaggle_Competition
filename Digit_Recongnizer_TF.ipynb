{
  "nbformat": 4,
  "nbformat_minor": 0,
  "metadata": {
    "colab": {
      "name": "Digit-Recongnizer-TF.ipynb",
      "provenance": [],
      "authorship_tag": "ABX9TyOnrqJJmDg4+wAJGN+I3176"
    },
    "kernelspec": {
      "name": "python3",
      "display_name": "Python 3"
    },
    "language_info": {
      "name": "python"
    },
    "accelerator": "GPU",
    "gpuClass": "standard"
  },
  "cells": [
    {
      "cell_type": "code",
      "source": [
        "!unzip digit-recognizer.zip"
      ],
      "metadata": {
        "colab": {
          "base_uri": "https://localhost:8080/"
        },
        "id": "WjmOkLd5M1Z7",
        "outputId": "a06e3ee3-15f2-4777-ca5e-8dadee9761d9"
      },
      "execution_count": 2,
      "outputs": [
        {
          "output_type": "stream",
          "name": "stdout",
          "text": [
            "Archive:  digit-recognizer.zip\n",
            "  inflating: sample_submission.csv   \n",
            "  inflating: test.csv                \n",
            "  inflating: train.csv               \n"
          ]
        }
      ]
    },
    {
      "cell_type": "code",
      "source": [
        "import pandas as pd\n",
        "import numpy as np\n",
        "import matplotlib.pyplot as plt\n",
        "\n",
        "import tensorflow as tf\n",
        "from tensorflow.keras.preprocessing.image import ImageDataGenerator\n",
        "from sklearn.model_selection import train_test_split"
      ],
      "metadata": {
        "id": "TIcHpU3aRrKE"
      },
      "execution_count": 74,
      "outputs": []
    },
    {
      "cell_type": "code",
      "source": [
        "train_df = pd.read_csv('train.csv')\n",
        "test_df = pd.read_csv('test.csv')\n",
        "test = test_df.values / 255.\n",
        "test = test.reshape(-1, 28, 28, 1)\n",
        "\n",
        "train_labels = tf.keras.utils.to_categorical(train_df.label.values, num_classes=10)\n",
        "train_df = train_df.drop(['label'], axis=1)\n",
        "train_images = train_df.values.reshape(-1, 28, 28, 1)\n",
        "train_images = train_images / 255.\n",
        "print(train_images.shape, train_labels.shape)"
      ],
      "metadata": {
        "colab": {
          "base_uri": "https://localhost:8080/"
        },
        "id": "f-q5m3W7R-Qt",
        "outputId": "1a49de63-e32b-4aea-e76b-c8dce0c86fa9"
      },
      "execution_count": 104,
      "outputs": [
        {
          "output_type": "stream",
          "name": "stdout",
          "text": [
            "(42000, 28, 28, 1) (42000, 10)\n"
          ]
        }
      ]
    },
    {
      "cell_type": "code",
      "source": [
        "plt.figure(figsize=(10, 10))\n",
        "for i in range(16):\n",
        "    plt.subplot(4, 4, i + 1)\n",
        "    plt.title(train_labels[i])\n",
        "    plt.imshow(train_images[i], 'gray')\n",
        "    plt.axis('off')\n",
        "plt.show()"
      ],
      "metadata": {
        "colab": {
          "base_uri": "https://localhost:8080/",
          "height": 591
        },
        "id": "qlGeeo4eTCqc",
        "outputId": "d0f81fef-d1bd-4014-9263-c5a498535de9"
      },
      "execution_count": 26,
      "outputs": [
        {
          "output_type": "display_data",
          "data": {
            "text/plain": [
              "<Figure size 720x720 with 16 Axes>"
            ],
            "image/png": "[encoded data removed]"
          },
          "metadata": {
            "needs_background": "light"
          }
        }
      ]
    },
    {
      "cell_type": "code",
      "source": [
        "train_x, val_x, train_y, val_y = train_test_split(train_images, train_labels, test_size=0.2)\n",
        "\n",
        "data_gen = ImageDataGenerator(rotation_range=20, width_shift_range=0.2, shear_range=15, zoom_range=0.1, validation_split=0.25)\n",
        "train_dataset = data_gen.flow(train_x, train_y, batch_size=256, subset='training')\n",
        "valid_dataset = data_gen.flow(val_x, val_y, batch_size=64, subset='validation')"
      ],
      "metadata": {
        "id": "2bRmuz9hgsyf"
      },
      "execution_count": 96,
      "outputs": []
    },
    {
      "cell_type": "code",
      "source": [
        "model = tf.keras.Sequential([\n",
        "    tf.keras.layers.Conv2D(input_shape=(28, 28, 1), filters=32, kernel_size=(3, 3), padding='same', activation='relu'),\n",
        "    tf.keras.layers.Conv2D(filters=16, kernel_size=(3, 3), padding='same', activation='relu'),\n",
        "    tf.keras.layers.MaxPool2D(2),\n",
        "    \n",
        "    tf.keras.layers.Conv2D(filters=32, kernel_size=(3, 3), padding='same', activation='relu'),\n",
        "    tf.keras.layers.MaxPool2D(2),\n",
        "\n",
        "    tf.keras.layers.Flatten(),\n",
        "    tf.keras.layers.Dense(units=128, activation='relu'),\n",
        "    tf.keras.layers.Dropout(0.2),\n",
        "    tf.keras.layers.Dense(units=10, activation='softmax'),\n",
        "])"
      ],
      "metadata": {
        "id": "osUsZ5F6V4F6"
      },
      "execution_count": 101,
      "outputs": []
    },
    {
      "cell_type": "code",
      "source": [
        "model.summary()\n",
        "\n",
        "model.compile(\n",
        "    loss='categorical_crossentropy',\n",
        "    optimizer=tf.optimizers.Adam(learning_rate=1e-2),\n",
        "    metrics=['accuracy']\n",
        ")"
      ],
      "metadata": {
        "colab": {
          "base_uri": "https://localhost:8080/"
        },
        "id": "qUDY_uOJWrwt",
        "outputId": "8aa0cb95-9049-494b-d54d-cf16b326cf0f"
      },
      "execution_count": 102,
      "outputs": [
        {
          "output_type": "stream",
          "name": "stdout",
          "text": [
            "Model: \"sequential_8\"\n",
            "_________________________________________________________________\n",
            " Layer (type)                Output Shape              Param #   \n",
            "=================================================================\n",
            " conv2d_43 (Conv2D)          (None, 28, 28, 32)        320       \n",
            "                                                                 \n",
            " conv2d_44 (Conv2D)          (None, 28, 28, 16)        4624      \n",
            "                                                                 \n",
            " max_pooling2d_22 (MaxPoolin  (None, 14, 14, 16)       0         \n",
            " g2D)                                                            \n",
            "                                                                 \n",
            " conv2d_45 (Conv2D)          (None, 14, 14, 32)        4640      \n",
            "                                                                 \n",
            " max_pooling2d_23 (MaxPoolin  (None, 7, 7, 32)         0         \n",
            " g2D)                                                            \n",
            "                                                                 \n",
            " flatten_7 (Flatten)         (None, 1568)              0         \n",
            "                                                                 \n",
            " dense_12 (Dense)            (None, 128)               200832    \n",
            "                                                                 \n",
            " dropout_25 (Dropout)        (None, 128)               0         \n",
            "                                                                 \n",
            " dense_13 (Dense)            (None, 10)                1290      \n",
            "                                                                 \n",
            "=================================================================\n",
            "Total params: 211,706\n",
            "Trainable params: 211,706\n",
            "Non-trainable params: 0\n",
            "_________________________________________________________________\n"
          ]
        }
      ]
    },
    {
      "cell_type": "code",
      "source": [
        "hist = model.fit(train_dataset, validation_data=valid_dataset, epochs=20)"
      ],
      "metadata": {
        "colab": {
          "base_uri": "https://localhost:8080/"
        },
        "id": "9irgpapiW55u",
        "outputId": "6e663448-5747-4f88-c749-b146e04ccc79"
      },
      "execution_count": 103,
      "outputs": [
        {
          "output_type": "stream",
          "name": "stdout",
          "text": [
            "Epoch 1/20\n",
            "99/99 [==============================] - 7s 64ms/step - loss: 0.6624 - accuracy: 0.7766 - val_loss: 0.1993 - val_accuracy: 0.9376\n",
            "Epoch 2/20\n",
            "99/99 [==============================] - 7s 72ms/step - loss: 0.2184 - accuracy: 0.9315 - val_loss: 0.1275 - val_accuracy: 0.9605\n",
            "Epoch 3/20\n",
            "99/99 [==============================] - 7s 66ms/step - loss: 0.1688 - accuracy: 0.9471 - val_loss: 0.1337 - val_accuracy: 0.9610\n",
            "Epoch 4/20\n",
            "99/99 [==============================] - 6s 62ms/step - loss: 0.1528 - accuracy: 0.9525 - val_loss: 0.1234 - val_accuracy: 0.9619\n",
            "Epoch 5/20\n",
            "99/99 [==============================] - 6s 63ms/step - loss: 0.1333 - accuracy: 0.9592 - val_loss: 0.1054 - val_accuracy: 0.9724\n",
            "Epoch 6/20\n",
            "99/99 [==============================] - 6s 61ms/step - loss: 0.1357 - accuracy: 0.9589 - val_loss: 0.1049 - val_accuracy: 0.9652\n",
            "Epoch 7/20\n",
            "99/99 [==============================] - 6s 61ms/step - loss: 0.1284 - accuracy: 0.9626 - val_loss: 0.0978 - val_accuracy: 0.9638\n",
            "Epoch 8/20\n",
            "99/99 [==============================] - 6s 62ms/step - loss: 0.1139 - accuracy: 0.9655 - val_loss: 0.0887 - val_accuracy: 0.9724\n",
            "Epoch 9/20\n",
            "99/99 [==============================] - 6s 62ms/step - loss: 0.1087 - accuracy: 0.9676 - val_loss: 0.1091 - val_accuracy: 0.9657\n",
            "Epoch 10/20\n",
            "99/99 [==============================] - 6s 62ms/step - loss: 0.1068 - accuracy: 0.9673 - val_loss: 0.0842 - val_accuracy: 0.9719\n",
            "Epoch 11/20\n",
            "99/99 [==============================] - 6s 61ms/step - loss: 0.0998 - accuracy: 0.9694 - val_loss: 0.0694 - val_accuracy: 0.9757\n",
            "Epoch 12/20\n",
            "99/99 [==============================] - 6s 62ms/step - loss: 0.0994 - accuracy: 0.9708 - val_loss: 0.0867 - val_accuracy: 0.9805\n",
            "Epoch 13/20\n",
            "99/99 [==============================] - 6s 62ms/step - loss: 0.1009 - accuracy: 0.9690 - val_loss: 0.0743 - val_accuracy: 0.9767\n",
            "Epoch 14/20\n",
            "99/99 [==============================] - 6s 62ms/step - loss: 0.1027 - accuracy: 0.9690 - val_loss: 0.0732 - val_accuracy: 0.9771\n",
            "Epoch 15/20\n",
            "99/99 [==============================] - 6s 61ms/step - loss: 0.0977 - accuracy: 0.9700 - val_loss: 0.0807 - val_accuracy: 0.9738\n",
            "Epoch 16/20\n",
            "99/99 [==============================] - 7s 67ms/step - loss: 0.0885 - accuracy: 0.9733 - val_loss: 0.0903 - val_accuracy: 0.9705\n",
            "Epoch 17/20\n",
            "99/99 [==============================] - 6s 62ms/step - loss: 0.0876 - accuracy: 0.9730 - val_loss: 0.0908 - val_accuracy: 0.9748\n",
            "Epoch 18/20\n",
            "99/99 [==============================] - 6s 62ms/step - loss: 0.0885 - accuracy: 0.9734 - val_loss: 0.0665 - val_accuracy: 0.9781\n",
            "Epoch 19/20\n",
            "99/99 [==============================] - 6s 61ms/step - loss: 0.0914 - accuracy: 0.9725 - val_loss: 0.0805 - val_accuracy: 0.9767\n",
            "Epoch 20/20\n",
            "99/99 [==============================] - 7s 75ms/step - loss: 0.0896 - accuracy: 0.9722 - val_loss: 0.0834 - val_accuracy: 0.9757\n"
          ]
        }
      ]
    },
    {
      "cell_type": "code",
      "source": [
        "submissions = pd.read_csv('sample_submission.csv')\n",
        "label = np.argmax(model.predict(test), -1)\n",
        "submission = pd.DataFrame({'ImageId': range(1, len(label)+1), 'label': label})\n",
        "submission.to_csv('submission.csv', index=False)"
      ],
      "metadata": {
        "id": "WN55o3fIb_Oi"
      },
      "execution_count": 108,
      "outputs": []
    }
  ]
}